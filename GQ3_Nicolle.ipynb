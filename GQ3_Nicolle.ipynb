{
  "nbformat": 4,
  "nbformat_minor": 0,
  "metadata": {
    "colab": {
      "provenance": [],
      "authorship_tag": "ABX9TyOw3FE0/evr+mRJJjiln9fq",
      "include_colab_link": true
    },
    "kernelspec": {
      "name": "python3",
      "display_name": "Python 3"
    },
    "language_info": {
      "name": "python"
    }
  },
  "cells": [
    {
      "cell_type": "markdown",
      "metadata": {
        "id": "view-in-github",
        "colab_type": "text"
      },
      "source": [
        "<a href=\"https://colab.research.google.com/github/nrodrgiuez/PROGCOM-A/blob/main/GQ3_Nicolle.ipynb\" target=\"_parent\"><img src=\"https://colab.research.google.com/assets/colab-badge.svg\" alt=\"Open In Colab\"/></a>"
      ]
    },
    {
      "cell_type": "code",
      "execution_count": null,
      "metadata": {
        "id": "mvXXogVq-BSM"
      },
      "outputs": [],
      "source": [
        "{\n",
        "  \"nbformat\": 4,\n",
        "  \"nbformat_minor\": 0,\n",
        "  \"metadata\": {\n",
        "    \"colab\": {\n",
        "      \"provenance\": [],\n",
        "      \"authorship_tag\": \"ABX9TyPzGduLeJ5mELmeRaHtDd6y\",\n",
        "      \"include_colab_link\": true\n",
        "    },\n",
        "    \"kernelspec\": {\n",
        "      \"name\": \"python3\",\n",
        "      \"display_name\": \"Python 3\"\n",
        "    },\n",
        "    \"language_info\": {\n",
        "      \"name\": \"python\"\n",
        "    }\n",
        "  },\n",
        "  \"cells\": [\n",
        "    {\n",
        "      \"cell_type\": \"markdown\",\n",
        "      \"metadata\": {\n",
        "        \"id\": \"view-in-github\",\n",
        "        \"colab_type\": \"text\"\n",
        "      },\n",
        "      \"source\": [\n",
        "        \"<a href=\\\"https://colab.research.google.com/github/PapiCamiloRu08/PROGCOM-A/blob/main/%5BGQ3%20-%20GOODLIKE%20QUEST%203%5D\\\" target=\\\"_parent\\\"><img src=\\\"https://colab.research.google.com/assets/colab-badge.svg\\\" alt=\\\"Open In Colab\\\"/></a>\"\n",
        "      ]\n",
        "    },\n",
        "    {\n",
        "      \"cell_type\": \"code\",\n",
        "      \"execution_count\": 2,\n",
        "      \"metadata\": {\n",
        "        \"colab\": {\n",
        "          \"base_uri\": \"https://localhost:8080/\"\n",
        "        },\n",
        "        \"id\": \"WePdPi245O5m\",\n",
        "        \"outputId\": \"11ce336a-0a37-4683-c127-891c97e5a76c\"\n",
        "      },\n",
        "      \"outputs\": [\n",
        "        {\n",
        "          \"output_type\": \"stream\",\n",
        "          \"name\": \"stdout\",\n",
        "          \"text\": [\n",
        "            \"Calculadora de Interés Compuesto\\n\",\n",
        "            \"Ingrese el capital inicial: 34\\n\",\n",
        "            \"Ingrese la tasa de interés anual (%): 8\\n\",\n",
        "            \"Ingrese el tiempo (en años): 5\\n\",\n",
        "            \"Ingrese el número de veces que se capitaliza el interés por año: 6\\n\",\n",
        "            \"\\n\",\n",
        "            \"Interés generado: $16.59\\n\",\n",
        "            \"Valor futuro (Capital + Interés): $50.59\\n\"\n",
        "          ]\n",
        "        }\n",
        "      ],\n",
        "      \"source\": [\n",
        "        \"def IC(capital, tasa, tiempo, n):\\n\",\n",
        "        \"    # Fórmula de Interés Compuesto\\n\",\n",
        "        \"    valor_futuro = capital * (1 + tasa / n) ** (n * tiempo)\\n\",\n",
        "        \"    interes = valor_futuro - capital\\n\",\n",
        "        \"    return interes, valor_futuro\\n\",\n",
        "        \"\\n\",\n",
        "        \"\\n\",\n",
        "        \"print(\\\"Calculadora de Interés Compuesto\\\")\\n\",\n",
        "        \"\\n\",\n",
        "        \"P = float(input(\\\"Ingrese el capital inicial: \\\"))\\n\",\n",
        "        \"r = float(input(\\\"Ingrese la tasa de interés anual (%): \\\")) / 100\\n\",\n",
        "        \"t = float(input(\\\"Ingrese el tiempo (en años): \\\"))\\n\",\n",
        "        \"n = int(input(\\\"Ingrese el número de veces que se capitaliza el interés por año: \\\"))\\n\",\n",
        "        \"\\n\",\n",
        "        \"interes, valor_futuro = IC(P, r, t, n)\\n\",\n",
        "        \"\\n\",\n",
        "        \"print(f\\\"\\\\nInterés generado: ${interes:.2f}\\\")\\n\",\n",
        "        \"print(f\\\"Valor futuro (Capital + Interés): ${valor_futuro:.2f}\\\")\\n\"\n",
        "      ]\n",
        "    }\n",
        "  ]\n",
        "}"
      ]
    }
  ]
}