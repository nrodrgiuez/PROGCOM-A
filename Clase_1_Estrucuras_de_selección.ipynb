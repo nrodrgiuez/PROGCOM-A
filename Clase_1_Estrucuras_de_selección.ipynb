{
  "nbformat": 4,
  "nbformat_minor": 0,
  "metadata": {
    "colab": {
      "provenance": [],
      "authorship_tag": "ABX9TyMx8xXD0LsJm7YI/WBxHaJm",
      "include_colab_link": true
    },
    "kernelspec": {
      "name": "python3",
      "display_name": "Python 3"
    },
    "language_info": {
      "name": "python"
    }
  },
  "cells": [
    {
      "cell_type": "markdown",
      "metadata": {
        "id": "view-in-github",
        "colab_type": "text"
      },
      "source": [
        "<a href=\"https://colab.research.google.com/github/nrodrgiuez/PROGCOM-A/blob/main/Clase_1_Estrucuras_de_selecci%C3%B3n.ipynb\" target=\"_parent\"><img src=\"https://colab.research.google.com/assets/colab-badge.svg\" alt=\"Open In Colab\"/></a>"
      ]
    },
    {
      "cell_type": "code",
      "execution_count": null,
      "metadata": {
        "id": "A_AeEqrNr-Qk"
      },
      "outputs": [],
      "source": [
        "#Estructuras de seleccion"
      ]
    },
    {
      "cell_type": "markdown",
      "source": [
        "#Estructuras de selección\n",
        "Se emplea cuando se debe evaluar una condición y esta da un valor de verdad (V) o (F)\n"
      ],
      "metadata": {
        "id": "YPfi1bn0tIrP"
      }
    },
    {
      "cell_type": "markdown",
      "source": [
        "##Estructura if- else\n",
        "\n",
        "\n",
        "```\n",
        "if (condición):\n",
        "  entro aqui. si la condición es V\n",
        "  else:\n",
        "  entro aqui,si la condición es F.\n",
        "```\n",
        "\n"
      ],
      "metadata": {
        "id": "AZQ-QFxYtmI2"
      }
    },
    {
      "cell_type": "code",
      "source": [
        "1Escribe un programa que reciba un numero e indique si es positivo\n",
        "2 n-int(input(\"Ingrese un numero\"))\n",
        "3 if n>=0:\n",
        "4  print(f{n}es un numero positivo\")\n",
        "5 else:\n",
        "6 print(n,\"NO es un numero positivo\")"
      ],
      "metadata": {
        "id": "tNUVtlTP0GQp"
      },
      "execution_count": null,
      "outputs": []
    },
    {
      "cell_type": "markdown",
      "source": [
        "##Selección multiple if-elif-else\n",
        "\n",
        "\n",
        "```\n",
        "if(condicion1)\n",
        "  si se cumple condición 1, entro aqui\n",
        "elif(condicion 2)\n",
        "  si no se cumple condicion 1\n",
        "  pero se cumple condicion 2,\n",
        "  entro aqui\n",
        "else: si no se cumple ninguna de las anteriores\n",
        "```\n",
        "\n"
      ],
      "metadata": {
        "id": "Jv2EIgXj0Tky"
      }
    },
    {
      "cell_type": "code",
      "source": [
        "1if n>0: print(f\"{n} es un numero positivo\")\n",
        "2elif n<0: print (f\"{n} NO es un numero positivo\")\n",
        "3else: print(f\"{n} es 0 y es un número positivo\")"
      ],
      "metadata": {
        "id": "5rUX1HnG1aSJ"
      },
      "execution_count": null,
      "outputs": []
    },
    {
      "cell_type": "markdown",
      "source": [
        "##Operador terniario\n",
        "Se usa cuando hay una cindicion a evaluar simple y se desa resolver en una linea de codigo\n",
        "\n",
        "\n",
        "```\n",
        "(valor de verdad V) if\n",
        "(condición) else (valor de verdad F)```\n",
        "\n"
      ],
      "metadata": {
        "id": "kdK0NkBo2EpY"
      }
    },
    {
      "cell_type": "code",
      "source": [
        "1 print(f\"{n}es un numero positivo\") if n>=0 else print (f\"{n} NO es un numero positivo\")"
      ],
      "metadata": {
        "id": "vg87C8qb3cOn"
      },
      "execution_count": null,
      "outputs": []
    },
    {
      "cell_type": "code",
      "source": [
        "1 a=f\"{n}es un numero positivo\" if n>=0 else f\"{n} NO es un numero positivo\"\n",
        "2 print (a)"
      ],
      "metadata": {
        "id": "CGgL4UXI3w3f"
      },
      "execution_count": null,
      "outputs": []
    },
    {
      "cell_type": "markdown",
      "source": [
        "###Ejercicio 2\n",
        "\n",
        "IF-ELSE\n",
        "```\n",
        "edad= int(intput(\"ingresa tu edad\"))\n",
        "if edad >=18:\n",
        "  print(\"Mayor edad\")\n",
        "else:\n",
        "  print(\"Menor de edad\")\n",
        "\n",
        "```\n",
        "\n",
        "IF-ELIF-ELSE\n",
        "```\n",
        "edad= int(input(\"Ingresa tu edad: \"))\n",
        "if edad>=18:\n",
        "  print(\"Mayor de edad\")\n",
        "elif edad<18:\n",
        "  print(\"Menor de edad\")\n",
        "\n",
        "```\n",
        "TERNARIO\n",
        "\n",
        "\n",
        "```\n",
        "edad= int(input(\"Ingresa tu edad:\"))\n",
        "print (\"Mayor de edad\" if edad>=18 else \"Menor de edad\")\n",
        "```\n",
        "\n",
        "\n",
        "\n",
        "\n",
        "\n"
      ],
      "metadata": {
        "id": "wtX6JN047DKW"
      }
    }
  ]
}