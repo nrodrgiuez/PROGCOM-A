{
  "nbformat": 4,
  "nbformat_minor": 0,
  "metadata": {
    "colab": {
      "provenance": [],
      "authorship_tag": "ABX9TyMxq36VxN0QuCpvNYN7WqHf",
      "include_colab_link": true
    },
    "kernelspec": {
      "name": "python3",
      "display_name": "Python 3"
    },
    "language_info": {
      "name": "python"
    }
  },
  "cells": [
    {
      "cell_type": "markdown",
      "metadata": {
        "id": "view-in-github",
        "colab_type": "text"
      },
      "source": [
        "<a href=\"https://colab.research.google.com/github/nrodrgiuez/PROGCOM-A/blob/main/Clase_3_Funciones.ipynb\" target=\"_parent\"><img src=\"https://colab.research.google.com/assets/colab-badge.svg\" alt=\"Open In Colab\"/></a>"
      ]
    },
    {
      "cell_type": "code",
      "execution_count": null,
      "metadata": {
        "id": "NtlbXOW_2sv5"
      },
      "outputs": [],
      "source": []
    },
    {
      "cell_type": "markdown",
      "source": [
        "#FUNCIONES\n",
        "copiado dinamico.\n",
        "Dio nacimiento a un nuevo paradigma de programación llamado programacion modular.\n",
        "##Forma general de programar funciones.\n",
        "\n",
        "\n",
        "```\n",
        "def(nombre_de_funcion)(p,p2,p3...pn):\n",
        "  donde p,p2,p3...pn: son parametros                                                                   \n",
        "```\n",
        "\n"
      ],
      "metadata": {
        "id": "2uu4siIS2zpe"
      }
    },
    {
      "cell_type": "markdown",
      "source": [
        "1.  list()\n",
        "2.  len()\n",
        "3. print()\n",
        "4. append()#Metodo\n",
        "5. int()\n",
        "6. input()\n",
        "\n"
      ],
      "metadata": {
        "id": "p3vX3Up135En"
      }
    },
    {
      "cell_type": "markdown",
      "source": [
        "##Tipos de funciones\n",
        "\n",
        "1.   Sin parametro, sin retorno\n",
        "2.   Sin parmetros, con retorno\n",
        "3.   Con parametro, sin retorno\n",
        "4.   Con parmetros, con retorno\n",
        "\n"
      ],
      "metadata": {
        "id": "MEfkOQDH4nV-"
      }
    },
    {
      "cell_type": "markdown",
      "source": [
        "###1. Sin parametros, sin retorno\n",
        "se emplea como copiado dinamico"
      ],
      "metadata": {
        "id": "CRfqhJkS5P42"
      }
    },
    {
      "cell_type": "code",
      "source": [
        "1 cajero()"
      ],
      "metadata": {
        "colab": {
          "base_uri": "https://localhost:8080/",
          "height": 106
        },
        "id": "n8px-Of261sE",
        "outputId": "a865b15b-8a1a-4a16-ed3f-1a101b4a5de0"
      },
      "execution_count": 4,
      "outputs": [
        {
          "output_type": "error",
          "ename": "SyntaxError",
          "evalue": "invalid syntax (ipython-input-1221834314.py, line 1)",
          "traceback": [
            "\u001b[0;36m  File \u001b[0;32m\"/tmp/ipython-input-1221834314.py\"\u001b[0;36m, line \u001b[0;32m1\u001b[0m\n\u001b[0;31m    1 cajero()\u001b[0m\n\u001b[0m      ^\u001b[0m\n\u001b[0;31mSyntaxError\u001b[0m\u001b[0;31m:\u001b[0m invalid syntax\n"
          ]
        }
      ]
    },
    {
      "cell_type": "code",
      "source": [
        "1 def cajero2():#Esto significa que es sin parametros\n",
        "2   print(\"\")"
      ],
      "metadata": {
        "id": "ITRTaQKb8Lvy"
      },
      "execution_count": null,
      "outputs": []
    }
  ]
}