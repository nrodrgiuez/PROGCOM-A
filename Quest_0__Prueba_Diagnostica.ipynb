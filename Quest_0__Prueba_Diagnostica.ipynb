{
  "nbformat": 4,
  "nbformat_minor": 0,
  "metadata": {
    "colab": {
      "provenance": [],
      "authorship_tag": "ABX9TyPVTNakmJBqaQ2T6uKNjgjs",
      "include_colab_link": true
    },
    "kernelspec": {
      "name": "python3",
      "display_name": "Python 3"
    },
    "language_info": {
      "name": "python"
    }
  },
  "cells": [
    {
      "cell_type": "markdown",
      "metadata": {
        "id": "view-in-github",
        "colab_type": "text"
      },
      "source": [
        "<a href=\"https://colab.research.google.com/github/nrodrgiuez/PROGCOM-A/blob/main/Quest_0__Prueba_Diagnostica.ipynb\" target=\"_parent\"><img src=\"https://colab.research.google.com/assets/colab-badge.svg\" alt=\"Open In Colab\"/></a>"
      ]
    },
    {
      "cell_type": "markdown",
      "source": [
        "#Prueba Diagnostica"
      ],
      "metadata": {
        "id": "h444ufTdLsLi"
      }
    },
    {
      "cell_type": "markdown",
      "source": [
        "##Estructuras de selección\n",
        "1 Escribe un programa que reciba un número e indique si es positivo.\n",
        "\n",
        "\n",
        "1.   Solicita un numero\n",
        "2.   Si el numero es mayor que 0 el numero es positivo sino sera negativo\n",
        "3.   Escribir es positivo o negativo respectivamente\n",
        "\n",
        "\n",
        "\n"
      ],
      "metadata": {
        "id": "9_eVlDlnKRqS"
      }
    },
    {
      "cell_type": "markdown",
      "source": [
        "2 Escribe un programa que reciba una edad y determine si la persona es mayor de edad.\n",
        "\n",
        "1.  Solicita edad\n",
        "2.  Si el numero es igual o mayor a 18 es mayor de edad si numero es menor de 18 sera menor de edad.\n",
        "3. mostrar mayor o menor de edad\n",
        "\n"
      ],
      "metadata": {
        "id": "k0ZqdTPMXhHB"
      }
    },
    {
      "cell_type": "markdown",
      "source": [
        "\n",
        "\n"
      ],
      "metadata": {
        "id": "P98kDnD3Lzjp"
      }
    },
    {
      "cell_type": "markdown",
      "source": [
        "3 Escribe un programa que reciba dos números e imprima el mayor.\n",
        "1.   escribe el primer numero\n",
        "2.   escribe el segundo numero\n",
        "3.   si segundo numero es mayor que primero escribir mostrar segundo numero\n",
        "4.   si primer numero es mayor que primero escribir mostrar primer numero\n",
        "\n",
        "\n",
        "\n"
      ],
      "metadata": {
        "id": "wB3CmagOYMlJ"
      }
    },
    {
      "cell_type": "markdown",
      "source": [
        "4 Escribe un programa que reciba una calificación (0-100) e indique si es Aprobado (&gt;=60) o\n",
        "Reprobado.\n",
        "\n",
        "1.   escribe tu calificación\n",
        "2.   si calificacion es mayor o igual a 60 sera aprobado si es menor a este estara reprobado\n",
        "3.   mostrar aprovado o reprobado\n",
        "\n"
      ],
      "metadata": {
        "id": "7NvHpL3lZBUp"
      }
    },
    {
      "cell_type": "markdown",
      "source": [
        "5 Escribe un programa que determine si un número es par o impar.\n",
        "\n",
        "1.   Escribir numero\n",
        "2.   si numero se puede dividir entre 2 es un numero par sino sera impar\n",
        "3. mostrar si numero es par o impar respectivamente\n",
        "\n",
        "\n",
        "\n"
      ],
      "metadata": {
        "id": "PZ-m_Rl0ZpoQ"
      }
    },
    {
      "cell_type": "markdown",
      "source": [
        "6 Escribe un programa que reciba tres números e imprima el mayor de los tres.\n",
        "\n",
        "\n",
        "1.   Escribir primer numero (a)\n",
        "2.   Escribir segundo numero (B)\n",
        "3.   Escribir tercer numero (C)\n",
        "5.   Si a es menor b pero mayor que c el mayor sera b\n",
        "6.   Si b es menor c pero mayor que a el mayor sera c\n",
        "7.   Si c es menor a pero mayor que b el mayor sera a\n",
        "8.   mostrar resultado\n",
        "\n",
        "\n",
        "\n"
      ],
      "metadata": {
        "id": "qFJpV09ZZ-7_"
      }
    },
    {
      "cell_type": "markdown",
      "source": [
        "7 Escribe un programa que reciba un año e indique si es bisiesto.\n",
        "\n",
        "\n",
        "1.   Escribe el año\n",
        "2.   si año es divisible entre 4 y no es divisible entre 100\n",
        "3.   escribir año es bisiesto o año no es bisiesto\n",
        "\n",
        "\n"
      ],
      "metadata": {
        "id": "9kWit3GGbLwH"
      }
    },
    {
      "cell_type": "code",
      "execution_count": null,
      "metadata": {
        "id": "6hiElcHsJfgF"
      },
      "outputs": [],
      "source": []
    },
    {
      "cell_type": "markdown",
      "source": [
        "8 Escribe un programa que reciba una contraseña e indique si cumple con las siguientes reglas: más\n",
        "de 8 caracteres, contiene al menos un número y una letra mayúscula.\n",
        "\n",
        "1.   ingresar constraseña\n",
        "2.   si contraseña tiene igual a 8 letras sera aprovada\n",
        "3.   si contraseña contiene uno o mas numeros sera aprovada\n",
        "4.   si contraseña contiene uno o mas letras sera aprovada\n",
        "5.   si contraseña no cumple alguna de estas caracteristicas no sera aprovada\n",
        "\n",
        "\n"
      ],
      "metadata": {
        "id": "WzoiPP9vb05u"
      }
    }
  ]
}