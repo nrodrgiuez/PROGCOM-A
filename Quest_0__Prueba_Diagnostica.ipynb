{
  "nbformat": 4,
  "nbformat_minor": 0,
  "metadata": {
    "colab": {
      "provenance": []
    },
    "kernelspec": {
      "name": "python3",
      "display_name": "Python 3"
    },
    "language_info": {
      "name": "python"
    }
  },
  "cells": [
    {
      "cell_type": "markdown",
      "source": [
        "#Prueba Diagnostica"
      ],
      "metadata": {
        "id": "h444ufTdLsLi"
      }
    },
    {
      "cell_type": "markdown",
      "source": [
        "##Estructuras de selección\n",
        "Aqui se desarrollaran ejercicios sobre estructuras de seleccion\n",
        "\n",
        "Por pseint\n",
        "\n",
        "\n",
        "```\n",
        "si (condición)entonces:\n",
        "pasan cosas divertidas\n",
        "sino:\n",
        "\n",
        "```\n",
        "\n",
        "Por algoritmia\n",
        "\n",
        "1.   Solicita\n",
        "2.   Elemento de lista\n"
      ],
      "metadata": {
        "id": "9_eVlDlnKRqS"
      }
    },
    {
      "cell_type": "markdown",
      "source": [
        "\n",
        "\n"
      ],
      "metadata": {
        "id": "P98kDnD3Lzjp"
      }
    },
    {
      "cell_type": "code",
      "execution_count": null,
      "metadata": {
        "id": "6hiElcHsJfgF"
      },
      "outputs": [],
      "source": []
    }
  ]
}