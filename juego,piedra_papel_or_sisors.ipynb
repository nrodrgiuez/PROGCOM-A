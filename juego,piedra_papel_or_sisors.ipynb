{
  "nbformat": 4,
  "nbformat_minor": 0,
  "metadata": {
    "colab": {
      "provenance": [],
      "authorship_tag": "ABX9TyPmO6xIUA3OuNR7aEuvDHbr",
      "include_colab_link": true
    },
    "kernelspec": {
      "name": "python3",
      "display_name": "Python 3"
    },
    "language_info": {
      "name": "python"
    }
  },
  "cells": [
    {
      "cell_type": "markdown",
      "metadata": {
        "id": "view-in-github",
        "colab_type": "text"
      },
      "source": [
        "<a href=\"https://colab.research.google.com/github/nrodrgiuez/PROGCOM-A/blob/main/juego%2Cpiedra_papel_or_sisors.ipynb\" target=\"_parent\"><img src=\"https://colab.research.google.com/assets/colab-badge.svg\" alt=\"Open In Colab\"/></a>"
      ]
    },
    {
      "cell_type": "code",
      "execution_count": null,
      "metadata": {
        "id": "4-kSPRQo76_Z"
      },
      "outputs": [],
      "source": [
        "{\n",
        "  \"nbformat\": 4,\n",
        "  \"nbformat_minor\": 0,\n",
        "  \"metadata\": {\n",
        "    \"colab\": {\n",
        "      \"provenance\": [],\n",
        "      \"authorship_tag\": \"ABX9TyOmeWFqfCJSpkX+/EsjYR/W\",\n",
        "      \"include_colab_link\": true\n",
        "    },\n",
        "    \"kernelspec\": {\n",
        "      \"name\": \"python3\",\n",
        "      \"display_name\": \"Python 3\"\n",
        "    },\n",
        "    \"language_info\": {\n",
        "      \"name\": \"python\"\n",
        "    }\n",
        "  },\n",
        "  \"cells\": [\n",
        "    {\n",
        "      \"cell_type\": \"markdown\",\n",
        "      \"metadata\": {\n",
        "        \"id\": \"view-in-github\",\n",
        "        \"colab_type\": \"text\"\n",
        "      },\n",
        "      \"source\": [\n",
        "        \"<a href=\\\"https://colab.research.google.com/github/JuanSebastianSantos/PROGCOM-A/blob/main/pierda_papel_tijera_py.py\\\" target=\\\"_parent\\\"><img src=\\\"https://colab.research.google.com/assets/colab-badge.svg\\\" alt=\\\"Open In Colab\\\"/></a>\"\n",
        "      ]\n",
        "    },\n",
        "    {\n",
        "      \"cell_type\": \"code\",\n",
        "      \"execution_count\": null,\n",
        "      \"metadata\": {\n",
        "        \"id\": \"K67iQoA_OGjv\"\n",
        "      },\n",
        "      \"outputs\": [],\n",
        "      \"source\": [\n",
        "        \"import tkinter as tk\\n\",\n",
        "        \"from tkinter import messagebox\\n\",\n",
        "        \"import random\\n\",\n",
        "        \"import pygame\\n\",\n",
        "        \"\\n\",\n",
        "        \"# Ventana principal\\n\",\n",
        "        \"root = tk.Tk()\\n\",\n",
        "        \"root.title(\\\"Piedra papel y tijera\\\")\\n\",\n",
        "        \"\\n\",\n",
        "        \"# Elecciones\\n\",\n",
        "        \"choices = [\\\"Piedra\\\", \\\"Papel\\\", \\\"Tijera\\\"]\\n\",\n",
        "        \"\\n\",\n",
        "        \"# Funcion para determinar ganador\\n\",\n",
        "        \"def play(user_choice):\\n\",\n",
        "        \"    computer_choice = random.choice(choices)\\n\",\n",
        "        \"    result = \\\"\\\"\\n\",\n",
        "        \"    if user_choice == computer_choice:\\n\",\n",
        "        \"        result = \\\"Empate!\\\"\\n\",\n",
        "        \"    elif (user_choice == \\\"Piedra\\\" and computer_choice == \\\"Tijera\\\") or \\\\\\n\",\n",
        "        \"         (user_choice == \\\"Papel\\\" and computer_choice == \\\"Piedra\\\") or \\\\\\n\",\n",
        "        \"         (user_choice == \\\"Tijera\\\" and computer_choice == \\\"Papel\\\"):\\n\",\n",
        "        \"        result = \\\"Ganaste!\\\"\\n\",\n",
        "        \"    else:\\n\",\n",
        "        \"        result = \\\"La computadora gana!\\\"\\n\",\n",
        "        \"    messagebox.showinfo(\\\"Resultado\\\", f\\\"Elejiste {user_choice}\\\\nComputadora eligio {computer_choice}\\\\n{result}\\\")\\n\",\n",
        "        \"\\n\",\n",
        "        \"# Layout\\n\",\n",
        "        \"tk.Label(root, text=\\\"Elije:\\\").pack(pady=10)\\n\",\n",
        "        \"\\n\",\n",
        "        \"btn_frame = tk.Frame(root)\\n\",\n",
        "        \"btn_frame.pack(pady=10)\\n\",\n",
        "        \"\\n\",\n",
        "        \"for choice in choices:\\n\",\n",
        "        \"    tk.Button(btn_frame, text=choice, width=10, command=lambda c=choice: play(c)).pack(side=tk.LEFT, padx=5)\\n\",\n",
        "        \"\\n\",\n",
        "        \"\\n\",\n",
        "        \"Imagenes_juego = []\\n\",\n",
        "        \"Imagenes_jurgo = [\\\"imagenes/Piedra_1.jpg\\\",\\\"imagenes/Piedra_2.jpg\\\", \\\"imagenes/Papel_1.jpg\\\", \\\"imagenes/Papel_2.jpg\\\" \\\"imagenes/Tijera_1.jpg\\\", \\\"imagenes/Tijera_2.jpg\\\"]\\n\",\n",
        "        \"\\n\",\n",
        "        \"root.mainloop()\"\n",
        "      ]\n",
        "    }\n",
        "  ]\n",
        "}"
      ]
    }
  ]
}