{
  "nbformat": 4,
  "nbformat_minor": 0,
  "metadata": {
    "colab": {
      "provenance": [],
      "authorship_tag": "ABX9TyOJCDtA+TdUiX/BccCtNaSF",
      "include_colab_link": true
    },
    "kernelspec": {
      "name": "python3",
      "display_name": "Python 3"
    },
    "language_info": {
      "name": "python"
    }
  },
  "cells": [
    {
      "cell_type": "markdown",
      "metadata": {
        "id": "view-in-github",
        "colab_type": "text"
      },
      "source": [
        "<a href=\"https://colab.research.google.com/github/nrodrgiuez/PROGCOM-A/blob/main/CQ4_Principal.ipynb\" target=\"_parent\"><img src=\"https://colab.research.google.com/assets/colab-badge.svg\" alt=\"Open In Colab\"/></a>"
      ]
    },
    {
      "cell_type": "code",
      "execution_count": null,
      "metadata": {
        "id": "IGiWRU4y9Q-C"
      },
      "outputs": [],
      "source": [
        "from tkinter import *\n",
        "import configuraciones\n",
        "import utilidades\n",
        "\n",
        "ventana = Tk()\n",
        "# Configuración de la ventana\n",
        "ventana.configure(bg=\"black\")\n",
        "ventana.geometry(f'{configuraciones.ANCHO}x{configuraciones.ALTO}')\n",
        "ventana.title(\"Juego Buscaminas\")\n",
        "ventana.resizable(False, False)\n",
        "\n",
        "marco_superior = Frame(\n",
        "    ventana,\n",
        "    bg='black',\n",
        "    ancho=configuraciones.ANCHO,\n",
        "    altura=utilidades.altura_pct(25)\n",
        ")\n",
        "marco_superior.place(x=0, y=0)\n",
        "\n",
        "marco_izquierdo = Frame(\n",
        "    ventana,\n",
        "    bg='black',\n",
        "    ancho=utilidades.ancho_pct(25),\n",
        "    altura=utilidades.altura_pct(75)\n",
        ")\n",
        "marco_izquierdo.place(x=0, y=utilidades.altura_pct(25))\n",
        "\n",
        "marco_central = Frame(\n",
        "    ventana,\n",
        "    bg='black',\n",
        "    ancho=utilidades.ancho_pct(75),\n",
        "    altura=utilidades.altura_pct(75)\n",
        ")\n",
        "marco_central.place(\n",
        "    x=utilidades.ancho_pct(25),\n",
        "    y=utilidades.altura_pct(25),\n",
        ")\n",
        "\n",
        "# Ejecutar la ventana\n",
        "ventana.mainloop()"
      ]
    }
  ]
}