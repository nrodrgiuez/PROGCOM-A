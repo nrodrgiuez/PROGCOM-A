{
  "nbformat": 4,
  "nbformat_minor": 0,
  "metadata": {
    "colab": {
      "provenance": [],
      "authorship_tag": "ABX9TyPCpIrzNCI12Vk2No/CzdBD",
      "include_colab_link": true
    },
    "kernelspec": {
      "name": "python3",
      "display_name": "Python 3"
    },
    "language_info": {
      "name": "python"
    }
  },
  "cells": [
    {
      "cell_type": "markdown",
      "metadata": {
        "id": "view-in-github",
        "colab_type": "text"
      },
      "source": [
        "<a href=\"https://colab.research.google.com/github/nrodrgiuez/PROGCOM-A/blob/main/Clase_2_Estructuras_de_repetici%C3%B3n.ipynb\" target=\"_parent\"><img src=\"https://colab.research.google.com/assets/colab-badge.svg\" alt=\"Open In Colab\"/></a>"
      ]
    },
    {
      "cell_type": "code",
      "execution_count": null,
      "metadata": {
        "id": "JKGULBEnQXEP"
      },
      "outputs": [],
      "source": []
    },
    {
      "cell_type": "markdown",
      "source": [
        "#Estructuras de repetición"
      ],
      "metadata": {
        "id": "AnF5WT9iQd-4"
      }
    },
    {
      "cell_type": "markdown",
      "source": [
        "Permite repetir una o más acciones de acuerdo con una condición (mientras se cumpla la condición)"
      ],
      "metadata": {
        "id": "tNIZxvpMQgj4"
      }
    },
    {
      "cell_type": "markdown",
      "source": [
        "##Estructura para - for\n",
        "\n",
        "1.  Cuando se sabe cuantas veces se reíte una accion\n",
        "2.  Esta conformado por una condicion inicial (CI) una condicion final (CF) y pasos (frecuencia de repetición).\n",
        "3. Esta estructura no se detendra, hasta alcanzar CF-1\n",
        "\n",
        "Estructura general del for\n",
        "\n",
        "\n",
        "```\n",
        "for(variable) in range (CI,CF+1,paso)\n",
        "  Se repite (CF+1-CI)/ paso veces una acción\n",
        "```\n",
        "Estrictura resumida del for\n",
        "\n",
        "\n",
        "```\n",
        "for(variable) in rage (cantidad):\n",
        "  Se repite cantidad de veces una acción\n",
        "```\n",
        "Estructura for como iteración\n",
        "\n",
        "1.. El para(for) itera tantas veces, como elementos tenga la lista\n",
        "2. La variable toma el valor de cada elemento de la lista por iteración\n",
        "\n",
        "```\n",
        "Lista=[1,2,3,4,5]\n",
        "for (variable) in Lista:\n",
        "  Se repite len(Lista)\n",
        "```\n",
        "\n",
        "\n",
        "\n"
      ],
      "metadata": {
        "id": "JruTpu8aQtJn"
      }
    },
    {
      "cell_type": "code",
      "source": [
        "#Hacer la tabla de ,multiplicar de un numero n\n",
        "n=int(input(\"Digita un múmero:\"))"
      ],
      "metadata": {
        "colab": {
          "base_uri": "https://localhost:8080/"
        },
        "id": "Hgn_czBgVNsk",
        "outputId": "1414ec00-d30d-47c6-9b4a-4e808de8b85b"
      },
      "execution_count": 13,
      "outputs": [
        {
          "name": "stdout",
          "output_type": "stream",
          "text": [
            "Digita un múmero:7\n"
          ]
        }
      ]
    },
    {
      "cell_type": "code",
      "source": [
        "print(f\"Tabla del {n}\")\n",
        "for holitas in range(1,11,1):\n",
        "  print(f\"{n} x {holitas} = {n*holitas}\")"
      ],
      "metadata": {
        "colab": {
          "base_uri": "https://localhost:8080/"
        },
        "id": "bAAfEx9FVeXj",
        "outputId": "b6489070-4c8e-41d0-b487-b38b3f074c5e"
      },
      "execution_count": 15,
      "outputs": [
        {
          "output_type": "stream",
          "name": "stdout",
          "text": [
            "Tabla del 7\n",
            "7 x 1 = 7\n",
            "7 x 2 = 14\n",
            "7 x 3 = 21\n",
            "7 x 4 = 28\n",
            "7 x 5 = 35\n",
            "7 x 6 = 42\n",
            "7 x 7 = 49\n",
            "7 x 8 = 56\n",
            "7 x 9 = 63\n",
            "7 x 10 = 70\n"
          ]
        }
      ]
    },
    {
      "cell_type": "code",
      "source": [
        "print(\"Tablas del 1 al 10\\n\")\n",
        "for tabla in range(1,11):\n",
        "   print(f\"Tabla del {tabla}\")\n",
        "   for numero in range(1,11):\n",
        "    print (f\"{tabla}x{numero}={tabla*numero}\")\n",
        "   print(\"\")"
      ],
      "metadata": {
        "colab": {
          "base_uri": "https://localhost:8080/"
        },
        "id": "Kjma7QmiXEia",
        "outputId": "bea5d527-1729-4fbf-8d30-83fbc01ab628"
      },
      "execution_count": 19,
      "outputs": [
        {
          "output_type": "stream",
          "name": "stdout",
          "text": [
            "Tablas del 1 al 10\n",
            "\n",
            "Tabla del 1\n",
            "1x1=1\n",
            "1x2=2\n",
            "1x3=3\n",
            "1x4=4\n",
            "1x5=5\n",
            "1x6=6\n",
            "1x7=7\n",
            "1x8=8\n",
            "1x9=9\n",
            "1x10=10\n",
            "\n",
            "Tabla del 2\n",
            "2x1=2\n",
            "2x2=4\n",
            "2x3=6\n",
            "2x4=8\n",
            "2x5=10\n",
            "2x6=12\n",
            "2x7=14\n",
            "2x8=16\n",
            "2x9=18\n",
            "2x10=20\n",
            "\n",
            "Tabla del 3\n",
            "3x1=3\n",
            "3x2=6\n",
            "3x3=9\n",
            "3x4=12\n",
            "3x5=15\n",
            "3x6=18\n",
            "3x7=21\n",
            "3x8=24\n",
            "3x9=27\n",
            "3x10=30\n",
            "\n",
            "Tabla del 4\n",
            "4x1=4\n",
            "4x2=8\n",
            "4x3=12\n",
            "4x4=16\n",
            "4x5=20\n",
            "4x6=24\n",
            "4x7=28\n",
            "4x8=32\n",
            "4x9=36\n",
            "4x10=40\n",
            "\n",
            "Tabla del 5\n",
            "5x1=5\n",
            "5x2=10\n",
            "5x3=15\n",
            "5x4=20\n",
            "5x5=25\n",
            "5x6=30\n",
            "5x7=35\n",
            "5x8=40\n",
            "5x9=45\n",
            "5x10=50\n",
            "\n",
            "Tabla del 6\n",
            "6x1=6\n",
            "6x2=12\n",
            "6x3=18\n",
            "6x4=24\n",
            "6x5=30\n",
            "6x6=36\n",
            "6x7=42\n",
            "6x8=48\n",
            "6x9=54\n",
            "6x10=60\n",
            "\n",
            "Tabla del 7\n",
            "7x1=7\n",
            "7x2=14\n",
            "7x3=21\n",
            "7x4=28\n",
            "7x5=35\n",
            "7x6=42\n",
            "7x7=49\n",
            "7x8=56\n",
            "7x9=63\n",
            "7x10=70\n",
            "\n",
            "Tabla del 8\n",
            "8x1=8\n",
            "8x2=16\n",
            "8x3=24\n",
            "8x4=32\n",
            "8x5=40\n",
            "8x6=48\n",
            "8x7=56\n",
            "8x8=64\n",
            "8x9=72\n",
            "8x10=80\n",
            "\n",
            "Tabla del 9\n",
            "9x1=9\n",
            "9x2=18\n",
            "9x3=27\n",
            "9x4=36\n",
            "9x5=45\n",
            "9x6=54\n",
            "9x7=63\n",
            "9x8=72\n",
            "9x9=81\n",
            "9x10=90\n",
            "\n",
            "Tabla del 10\n",
            "10x1=10\n",
            "10x2=20\n",
            "10x3=30\n",
            "10x4=40\n",
            "10x5=50\n",
            "10x6=60\n",
            "10x7=70\n",
            "10x8=80\n",
            "10x9=90\n",
            "10x10=100\n",
            "\n"
          ]
        }
      ]
    },
    {
      "cell_type": "code",
      "source": [
        "print(f\"Tabla del {n}\")\n",
        "for holitas in range(1,11):\n",
        "  print(f\"{n} x {holitas} = {n*holitas}\")"
      ],
      "metadata": {
        "colab": {
          "base_uri": "https://localhost:8080/"
        },
        "id": "XS-JK4Ngcg1X",
        "outputId": "78252bd7-1537-40eb-b8cc-50f9dce2910a"
      },
      "execution_count": 22,
      "outputs": [
        {
          "output_type": "stream",
          "name": "stdout",
          "text": [
            "Tabla del 7\n",
            "7 x 1 = 7\n",
            "7 x 2 = 14\n",
            "7 x 3 = 21\n",
            "7 x 4 = 28\n",
            "7 x 5 = 35\n",
            "7 x 6 = 42\n",
            "7 x 7 = 49\n",
            "7 x 8 = 56\n",
            "7 x 9 = 63\n",
            "7 x 10 = 70\n"
          ]
        }
      ]
    },
    {
      "cell_type": "code",
      "source": [
        "1 print(f\"Tabla del {n}\")\n",
        "2for holitas in range(n,11*n,n):\n",
        "3  print(f\"{n} x {int(holitas/n)}={n*int(holitas/n)}\")"
      ],
      "metadata": {
        "colab": {
          "base_uri": "https://localhost:8080/",
          "height": 183
        },
        "id": "p-EhF_3pdcM9",
        "outputId": "a01b82e1-9ecc-47c6-fae1-85c4b9a9ecaf"
      },
      "execution_count": 27,
      "outputs": [
        {
          "output_type": "stream",
          "name": "stderr",
          "text": [
            "<>:2: SyntaxWarning: invalid decimal literal\n",
            "<>:2: SyntaxWarning: invalid decimal literal\n",
            "/tmp/ipython-input-1555896383.py:2: SyntaxWarning: invalid decimal literal\n",
            "  2for holitas in range(n,11*n,n):\n"
          ]
        },
        {
          "output_type": "error",
          "ename": "SyntaxError",
          "evalue": "invalid syntax (ipython-input-1555896383.py, line 1)",
          "traceback": [
            "\u001b[0;36m  File \u001b[0;32m\"/tmp/ipython-input-1555896383.py\"\u001b[0;36m, line \u001b[0;32m1\u001b[0m\n\u001b[0;31m    1 print(f\"Tabla del {n}\")\u001b[0m\n\u001b[0m      ^\u001b[0m\n\u001b[0;31mSyntaxError\u001b[0m\u001b[0;31m:\u001b[0m invalid syntax\n"
          ]
        }
      ]
    },
    {
      "cell_type": "code",
      "source": [
        "numeros=[1,2,3,4,5,6,7,8,9,10]\n",
        "for num in numeros:\n",
        "  print(f\"{n} x {num}={n*num}\")"
      ],
      "metadata": {
        "colab": {
          "base_uri": "https://localhost:8080/"
        },
        "id": "_FElOYRZfTy9",
        "outputId": "d69dc241-62dc-40ca-b272-bf7d64c9e962"
      },
      "execution_count": 29,
      "outputs": [
        {
          "output_type": "stream",
          "name": "stdout",
          "text": [
            "7 x 1=7\n",
            "7 x 2=14\n",
            "7 x 3=21\n",
            "7 x 4=28\n",
            "7 x 5=35\n",
            "7 x 6=42\n",
            "7 x 7=49\n",
            "7 x 8=56\n",
            "7 x 9=63\n",
            "7 x 10=70\n"
          ]
        }
      ]
    },
    {
      "cell_type": "code",
      "source": [
        "for num in numeros 2:\n",
        "  print(f\"{n} x {num}={n*num}\")"
      ],
      "metadata": {
        "colab": {
          "base_uri": "https://localhost:8080/",
          "height": 110
        },
        "id": "rsEAl_HjgMvm",
        "outputId": "c1b42b40-3b09-44f9-d716-0783f24d8bce"
      },
      "execution_count": 33,
      "outputs": [
        {
          "output_type": "error",
          "ename": "SyntaxError",
          "evalue": "invalid syntax (ipython-input-2105582307.py, line 1)",
          "traceback": [
            "\u001b[0;36m  File \u001b[0;32m\"/tmp/ipython-input-2105582307.py\"\u001b[0;36m, line \u001b[0;32m1\u001b[0m\n\u001b[0;31m    for num in numeros 2:\u001b[0m\n\u001b[0m                       ^\u001b[0m\n\u001b[0;31mSyntaxError\u001b[0m\u001b[0;31m:\u001b[0m invalid syntax\n"
          ]
        }
      ]
    }
  ]
}